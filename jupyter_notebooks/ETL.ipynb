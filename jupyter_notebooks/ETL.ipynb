{
  "cells": [
    {
      "cell_type": "markdown",
      "metadata": {
        "id": "0aStgWSO0E0E"
      },
      "source": [
        "# ETL (Extract, Transform, Load) Process"
      ]
    },
    {
      "cell_type": "markdown",
      "metadata": {
        "id": "1eLEkw5O0ECa"
      },
      "source": [
        "## Objectives\n",
        "\n",
        "* Load and preprocess the Global AI Job Market & Salary Trends 2025.\n",
        "* Perform exploratory data analysis (EDA) to understand data distribution and relationships.\n",
        "* Identify key risk factors associated with AI job market trends.\n",
        "* Store cleaned and processed data for further analysis and model training.\n",
        "* Develop data visualizations to support insights.\n",
        "\n",
        "## Inputs\n",
        "\n",
        "* Data Source: Global AI Job Market & Salary Trends 2025 dataset (ai_job_dataset.csv) https://www.kaggle.com/datasets/bismasajjad/global-ai-job-market-and-salary-trends-2025.\n",
        "* Libraries: pandas, numpy, matplotlib, seaborn, os,  SciPy, Scikit-learn, Plotly.\n",
        "* Environment: Jupyter Notebook, Python 3.x.\n",
        "* Columns in the dataset: 'Job Title', 'Company', 'Location', 'Salary Estimate', 'Job Description', 'Rating', 'Headquarters', 'Size', 'Founded', 'Type of ownership', 'Industry', 'Sector', 'Revenue', 'Competitors'.\n",
        "\n",
        "## Outputs\n",
        "\n",
        "* Write here which files, code or artefacts you generate by the end of the notebook \n",
        "\n",
        "## Additional Comments\n",
        "\n",
        "* If you have any additional comments that don't fit in the previous bullets, please state them here. \n",
        "\n"
      ]
    },
    {
      "cell_type": "markdown",
      "metadata": {
        "id": "9uWZXH9LwoQg"
      },
      "source": [
        "---"
      ]
    },
    {
      "cell_type": "markdown",
      "metadata": {},
      "source": [
        "## 1. Environment Setup & Import Libraries\n"
      ]
    },
    {
      "cell_type": "code",
      "execution_count": 10,
      "metadata": {},
      "outputs": [],
      "source": [
        "import pandas as pd\n",
        "import numpy as np\n",
        "import matplotlib.pyplot as plt\n",
        "import seaborn as sns\n",
        "import os\n",
        "from scipy import stats\n",
        "from sklearn.model_selection import train_test_split\n",
        "from sklearn.preprocessing import StandardScaler\n",
        "import plotly.express as px"
      ]
    },
    {
      "cell_type": "markdown",
      "metadata": {
        "id": "cqP-UeN-z3i2"
      },
      "source": [
        "## 2. Change working directory"
      ]
    },
    {
      "cell_type": "markdown",
      "metadata": {},
      "source": [
        "* We are assuming you will store the notebooks in a subfolder, therefore when running the notebook in the editor, you will need to change the working directory"
      ]
    },
    {
      "cell_type": "markdown",
      "metadata": {
        "id": "aOGIGS-uz3i2"
      },
      "source": [
        "We need to change the working directory from its current folder to its parent folder\n",
        "* We access the current directory with os.getcwd()"
      ]
    },
    {
      "cell_type": "code",
      "execution_count": 1,
      "metadata": {
        "id": "wZfF_j-Bz3i4",
        "outputId": "66943449-1436-4c3d-85c7-b85f9f78349b"
      },
      "outputs": [
        {
          "data": {
            "text/plain": [
              "'d:\\\\Documents\\\\TC Tanzila\\\\code Ins\\\\Capstone\\\\Global-_AI_Job_Market_Salary_Trends_2025\\\\jupyter_notebooks'"
            ]
          },
          "execution_count": 1,
          "metadata": {},
          "output_type": "execute_result"
        }
      ],
      "source": [
        "import os\n",
        "current_dir = os.getcwd()\n",
        "current_dir"
      ]
    },
    {
      "cell_type": "markdown",
      "metadata": {
        "id": "9MWW8E7lz3i7"
      },
      "source": [
        "We want to make the parent of the current directory the new current directory\n",
        "* os.path.dirname() gets the parent directory\n",
        "* os.chir() defines the new current directory"
      ]
    },
    {
      "cell_type": "code",
      "execution_count": 2,
      "metadata": {
        "id": "TwHsQRWjz3i9",
        "outputId": "86849db3-cd2f-4cc5-ebb8-2d0caafa1a2c"
      },
      "outputs": [
        {
          "name": "stdout",
          "output_type": "stream",
          "text": [
            "You set a new current directory\n"
          ]
        }
      ],
      "source": [
        "os.chdir(os.path.dirname(current_dir))\n",
        "print(\"You set a new current directory\")"
      ]
    },
    {
      "cell_type": "markdown",
      "metadata": {
        "id": "M_xPk_Ijz3i-"
      },
      "source": [
        "Confirm the new current directory"
      ]
    },
    {
      "cell_type": "code",
      "execution_count": 3,
      "metadata": {
        "id": "vz3S-_kjz3jA",
        "outputId": "00b79ae4-75d0-4a96-d193-ac9ef9847ea2"
      },
      "outputs": [
        {
          "data": {
            "text/plain": [
              "'d:\\\\Documents\\\\TC Tanzila\\\\code Ins\\\\Capstone\\\\Global-_AI_Job_Market_Salary_Trends_2025'"
            ]
          },
          "execution_count": 3,
          "metadata": {},
          "output_type": "execute_result"
        }
      ],
      "source": [
        "current_dir = os.getcwd()\n",
        "current_dir"
      ]
    },
    {
      "cell_type": "markdown",
      "metadata": {},
      "source": [
        "## 3. Define file paths"
      ]
    },
    {
      "cell_type": "code",
      "execution_count": 4,
      "metadata": {},
      "outputs": [],
      "source": [
        "raw_data_dir = os.path.join(current_dir, 'data/raw') #path directory\n",
        "\n",
        "processed_data_dir = os.path.join(current_dir, 'data/clean') #path directory"
      ]
    },
    {
      "cell_type": "markdown",
      "metadata": {
        "id": "-mavJ8DibrcQ"
      },
      "source": [
        "## 4. Load the dataset\n"
      ]
    },
    {
      "cell_type": "code",
      "execution_count": 12,
      "metadata": {},
      "outputs": [
        {
          "data": {
            "text/html": [
              "<div>\n",
              "<style scoped>\n",
              "    .dataframe tbody tr th:only-of-type {\n",
              "        vertical-align: middle;\n",
              "    }\n",
              "\n",
              "    .dataframe tbody tr th {\n",
              "        vertical-align: top;\n",
              "    }\n",
              "\n",
              "    .dataframe thead th {\n",
              "        text-align: right;\n",
              "    }\n",
              "</style>\n",
              "<table border=\"1\" class=\"dataframe\">\n",
              "  <thead>\n",
              "    <tr style=\"text-align: right;\">\n",
              "      <th></th>\n",
              "      <th>job_id</th>\n",
              "      <th>job_title</th>\n",
              "      <th>salary_usd</th>\n",
              "      <th>salary_currency</th>\n",
              "      <th>experience_level</th>\n",
              "      <th>employment_type</th>\n",
              "      <th>company_location</th>\n",
              "      <th>company_size</th>\n",
              "      <th>employee_residence</th>\n",
              "      <th>remote_ratio</th>\n",
              "      <th>required_skills</th>\n",
              "      <th>education_required</th>\n",
              "      <th>years_experience</th>\n",
              "      <th>industry</th>\n",
              "      <th>posting_date</th>\n",
              "      <th>application_deadline</th>\n",
              "      <th>job_description_length</th>\n",
              "      <th>benefits_score</th>\n",
              "      <th>company_name</th>\n",
              "    </tr>\n",
              "  </thead>\n",
              "  <tbody>\n",
              "    <tr>\n",
              "      <th>0</th>\n",
              "      <td>AI00001</td>\n",
              "      <td>AI Research Scientist</td>\n",
              "      <td>90376</td>\n",
              "      <td>USD</td>\n",
              "      <td>SE</td>\n",
              "      <td>CT</td>\n",
              "      <td>China</td>\n",
              "      <td>M</td>\n",
              "      <td>China</td>\n",
              "      <td>50</td>\n",
              "      <td>Tableau, PyTorch, Kubernetes, Linux, NLP</td>\n",
              "      <td>Bachelor</td>\n",
              "      <td>9</td>\n",
              "      <td>Automotive</td>\n",
              "      <td>2024-10-18</td>\n",
              "      <td>2024-11-07</td>\n",
              "      <td>1076</td>\n",
              "      <td>5.9</td>\n",
              "      <td>Smart Analytics</td>\n",
              "    </tr>\n",
              "    <tr>\n",
              "      <th>1</th>\n",
              "      <td>AI00002</td>\n",
              "      <td>AI Software Engineer</td>\n",
              "      <td>61895</td>\n",
              "      <td>USD</td>\n",
              "      <td>EN</td>\n",
              "      <td>CT</td>\n",
              "      <td>Canada</td>\n",
              "      <td>M</td>\n",
              "      <td>Ireland</td>\n",
              "      <td>100</td>\n",
              "      <td>Deep Learning, AWS, Mathematics, Python, Docker</td>\n",
              "      <td>Master</td>\n",
              "      <td>1</td>\n",
              "      <td>Media</td>\n",
              "      <td>2024-11-20</td>\n",
              "      <td>2025-01-11</td>\n",
              "      <td>1268</td>\n",
              "      <td>5.2</td>\n",
              "      <td>TechCorp Inc</td>\n",
              "    </tr>\n",
              "    <tr>\n",
              "      <th>2</th>\n",
              "      <td>AI00003</td>\n",
              "      <td>AI Specialist</td>\n",
              "      <td>152626</td>\n",
              "      <td>USD</td>\n",
              "      <td>MI</td>\n",
              "      <td>FL</td>\n",
              "      <td>Switzerland</td>\n",
              "      <td>L</td>\n",
              "      <td>South Korea</td>\n",
              "      <td>0</td>\n",
              "      <td>Kubernetes, Deep Learning, Java, Hadoop, NLP</td>\n",
              "      <td>Associate</td>\n",
              "      <td>2</td>\n",
              "      <td>Education</td>\n",
              "      <td>2025-03-18</td>\n",
              "      <td>2025-04-07</td>\n",
              "      <td>1974</td>\n",
              "      <td>9.4</td>\n",
              "      <td>Autonomous Tech</td>\n",
              "    </tr>\n",
              "    <tr>\n",
              "      <th>3</th>\n",
              "      <td>AI00004</td>\n",
              "      <td>NLP Engineer</td>\n",
              "      <td>80215</td>\n",
              "      <td>USD</td>\n",
              "      <td>SE</td>\n",
              "      <td>FL</td>\n",
              "      <td>India</td>\n",
              "      <td>M</td>\n",
              "      <td>India</td>\n",
              "      <td>50</td>\n",
              "      <td>Scala, SQL, Linux, Python</td>\n",
              "      <td>PhD</td>\n",
              "      <td>7</td>\n",
              "      <td>Consulting</td>\n",
              "      <td>2024-12-23</td>\n",
              "      <td>2025-02-24</td>\n",
              "      <td>1345</td>\n",
              "      <td>8.6</td>\n",
              "      <td>Future Systems</td>\n",
              "    </tr>\n",
              "    <tr>\n",
              "      <th>4</th>\n",
              "      <td>AI00005</td>\n",
              "      <td>AI Consultant</td>\n",
              "      <td>54624</td>\n",
              "      <td>EUR</td>\n",
              "      <td>EN</td>\n",
              "      <td>PT</td>\n",
              "      <td>France</td>\n",
              "      <td>S</td>\n",
              "      <td>Singapore</td>\n",
              "      <td>100</td>\n",
              "      <td>MLOps, Java, Tableau, Python</td>\n",
              "      <td>Master</td>\n",
              "      <td>0</td>\n",
              "      <td>Media</td>\n",
              "      <td>2025-04-15</td>\n",
              "      <td>2025-06-23</td>\n",
              "      <td>1989</td>\n",
              "      <td>6.6</td>\n",
              "      <td>Advanced Robotics</td>\n",
              "    </tr>\n",
              "  </tbody>\n",
              "</table>\n",
              "</div>"
            ],
            "text/plain": [
              "    job_id              job_title  salary_usd salary_currency  \\\n",
              "0  AI00001  AI Research Scientist       90376             USD   \n",
              "1  AI00002   AI Software Engineer       61895             USD   \n",
              "2  AI00003          AI Specialist      152626             USD   \n",
              "3  AI00004           NLP Engineer       80215             USD   \n",
              "4  AI00005          AI Consultant       54624             EUR   \n",
              "\n",
              "  experience_level employment_type company_location company_size  \\\n",
              "0               SE              CT            China            M   \n",
              "1               EN              CT           Canada            M   \n",
              "2               MI              FL      Switzerland            L   \n",
              "3               SE              FL            India            M   \n",
              "4               EN              PT           France            S   \n",
              "\n",
              "  employee_residence  remote_ratio  \\\n",
              "0              China            50   \n",
              "1            Ireland           100   \n",
              "2        South Korea             0   \n",
              "3              India            50   \n",
              "4          Singapore           100   \n",
              "\n",
              "                                   required_skills education_required  \\\n",
              "0         Tableau, PyTorch, Kubernetes, Linux, NLP           Bachelor   \n",
              "1  Deep Learning, AWS, Mathematics, Python, Docker             Master   \n",
              "2     Kubernetes, Deep Learning, Java, Hadoop, NLP          Associate   \n",
              "3                        Scala, SQL, Linux, Python                PhD   \n",
              "4                     MLOps, Java, Tableau, Python             Master   \n",
              "\n",
              "   years_experience    industry posting_date application_deadline  \\\n",
              "0                 9  Automotive   2024-10-18           2024-11-07   \n",
              "1                 1       Media   2024-11-20           2025-01-11   \n",
              "2                 2   Education   2025-03-18           2025-04-07   \n",
              "3                 7  Consulting   2024-12-23           2025-02-24   \n",
              "4                 0       Media   2025-04-15           2025-06-23   \n",
              "\n",
              "   job_description_length  benefits_score       company_name  \n",
              "0                    1076             5.9    Smart Analytics  \n",
              "1                    1268             5.2       TechCorp Inc  \n",
              "2                    1974             9.4    Autonomous Tech  \n",
              "3                    1345             8.6     Future Systems  \n",
              "4                    1989             6.6  Advanced Robotics  "
            ]
          },
          "execution_count": 12,
          "metadata": {},
          "output_type": "execute_result"
        }
      ],
      "source": [
        "# Load csv file into a DataFrame\n",
        "\n",
        "df = pd.read_csv(os.path.join(raw_data_dir, 'ai_job_dataset.csv')) #load the dataset\n",
        "df.head() #displaying dataframe"
      ]
    },
    {
      "cell_type": "markdown",
      "metadata": {},
      "source": [
        "## 5. Initial Inspection of the dataset: Shape, Info & Summary Statistics"
      ]
    },
    {
      "cell_type": "code",
      "execution_count": 13,
      "metadata": {},
      "outputs": [
        {
          "data": {
            "text/html": [
              "<div>\n",
              "<style scoped>\n",
              "    .dataframe tbody tr th:only-of-type {\n",
              "        vertical-align: middle;\n",
              "    }\n",
              "\n",
              "    .dataframe tbody tr th {\n",
              "        vertical-align: top;\n",
              "    }\n",
              "\n",
              "    .dataframe thead th {\n",
              "        text-align: right;\n",
              "    }\n",
              "</style>\n",
              "<table border=\"1\" class=\"dataframe\">\n",
              "  <thead>\n",
              "    <tr style=\"text-align: right;\">\n",
              "      <th></th>\n",
              "      <th>job_id</th>\n",
              "      <th>job_title</th>\n",
              "      <th>salary_usd</th>\n",
              "      <th>salary_currency</th>\n",
              "      <th>experience_level</th>\n",
              "      <th>employment_type</th>\n",
              "      <th>company_location</th>\n",
              "      <th>company_size</th>\n",
              "      <th>employee_residence</th>\n",
              "      <th>remote_ratio</th>\n",
              "      <th>required_skills</th>\n",
              "      <th>education_required</th>\n",
              "      <th>years_experience</th>\n",
              "      <th>industry</th>\n",
              "      <th>posting_date</th>\n",
              "      <th>application_deadline</th>\n",
              "      <th>job_description_length</th>\n",
              "      <th>benefits_score</th>\n",
              "      <th>company_name</th>\n",
              "    </tr>\n",
              "  </thead>\n",
              "  <tbody>\n",
              "    <tr>\n",
              "      <th>0</th>\n",
              "      <td>AI00001</td>\n",
              "      <td>AI Research Scientist</td>\n",
              "      <td>90376</td>\n",
              "      <td>USD</td>\n",
              "      <td>SE</td>\n",
              "      <td>CT</td>\n",
              "      <td>China</td>\n",
              "      <td>M</td>\n",
              "      <td>China</td>\n",
              "      <td>50</td>\n",
              "      <td>Tableau, PyTorch, Kubernetes, Linux, NLP</td>\n",
              "      <td>Bachelor</td>\n",
              "      <td>9</td>\n",
              "      <td>Automotive</td>\n",
              "      <td>2024-10-18</td>\n",
              "      <td>2024-11-07</td>\n",
              "      <td>1076</td>\n",
              "      <td>5.9</td>\n",
              "      <td>Smart Analytics</td>\n",
              "    </tr>\n",
              "    <tr>\n",
              "      <th>1</th>\n",
              "      <td>AI00002</td>\n",
              "      <td>AI Software Engineer</td>\n",
              "      <td>61895</td>\n",
              "      <td>USD</td>\n",
              "      <td>EN</td>\n",
              "      <td>CT</td>\n",
              "      <td>Canada</td>\n",
              "      <td>M</td>\n",
              "      <td>Ireland</td>\n",
              "      <td>100</td>\n",
              "      <td>Deep Learning, AWS, Mathematics, Python, Docker</td>\n",
              "      <td>Master</td>\n",
              "      <td>1</td>\n",
              "      <td>Media</td>\n",
              "      <td>2024-11-20</td>\n",
              "      <td>2025-01-11</td>\n",
              "      <td>1268</td>\n",
              "      <td>5.2</td>\n",
              "      <td>TechCorp Inc</td>\n",
              "    </tr>\n",
              "    <tr>\n",
              "      <th>2</th>\n",
              "      <td>AI00003</td>\n",
              "      <td>AI Specialist</td>\n",
              "      <td>152626</td>\n",
              "      <td>USD</td>\n",
              "      <td>MI</td>\n",
              "      <td>FL</td>\n",
              "      <td>Switzerland</td>\n",
              "      <td>L</td>\n",
              "      <td>South Korea</td>\n",
              "      <td>0</td>\n",
              "      <td>Kubernetes, Deep Learning, Java, Hadoop, NLP</td>\n",
              "      <td>Associate</td>\n",
              "      <td>2</td>\n",
              "      <td>Education</td>\n",
              "      <td>2025-03-18</td>\n",
              "      <td>2025-04-07</td>\n",
              "      <td>1974</td>\n",
              "      <td>9.4</td>\n",
              "      <td>Autonomous Tech</td>\n",
              "    </tr>\n",
              "  </tbody>\n",
              "</table>\n",
              "</div>"
            ],
            "text/plain": [
              "    job_id              job_title  salary_usd salary_currency  \\\n",
              "0  AI00001  AI Research Scientist       90376             USD   \n",
              "1  AI00002   AI Software Engineer       61895             USD   \n",
              "2  AI00003          AI Specialist      152626             USD   \n",
              "\n",
              "  experience_level employment_type company_location company_size  \\\n",
              "0               SE              CT            China            M   \n",
              "1               EN              CT           Canada            M   \n",
              "2               MI              FL      Switzerland            L   \n",
              "\n",
              "  employee_residence  remote_ratio  \\\n",
              "0              China            50   \n",
              "1            Ireland           100   \n",
              "2        South Korea             0   \n",
              "\n",
              "                                   required_skills education_required  \\\n",
              "0         Tableau, PyTorch, Kubernetes, Linux, NLP           Bachelor   \n",
              "1  Deep Learning, AWS, Mathematics, Python, Docker             Master   \n",
              "2     Kubernetes, Deep Learning, Java, Hadoop, NLP          Associate   \n",
              "\n",
              "   years_experience    industry posting_date application_deadline  \\\n",
              "0                 9  Automotive   2024-10-18           2024-11-07   \n",
              "1                 1       Media   2024-11-20           2025-01-11   \n",
              "2                 2   Education   2025-03-18           2025-04-07   \n",
              "\n",
              "   job_description_length  benefits_score     company_name  \n",
              "0                    1076             5.9  Smart Analytics  \n",
              "1                    1268             5.2     TechCorp Inc  \n",
              "2                    1974             9.4  Autonomous Tech  "
            ]
          },
          "metadata": {},
          "output_type": "display_data"
        }
      ],
      "source": [
        "# Preview data\n",
        "display(df.head(3))"
      ]
    },
    {
      "cell_type": "code",
      "execution_count": 15,
      "metadata": {},
      "outputs": [
        {
          "name": "stdout",
          "output_type": "stream",
          "text": [
            "The dataset contains 15000 rows and 19 columns.\n"
          ]
        }
      ],
      "source": [
        "# preview data shape\n",
        "print(f\"The dataset contains {df.shape[0]} rows and {df.shape[1]} columns.\")"
      ]
    },
    {
      "cell_type": "code",
      "execution_count": 16,
      "metadata": {},
      "outputs": [
        {
          "name": "stdout",
          "output_type": "stream",
          "text": [
            "<class 'pandas.core.frame.DataFrame'>\n",
            "RangeIndex: 15000 entries, 0 to 14999\n",
            "Data columns (total 19 columns):\n",
            " #   Column                  Non-Null Count  Dtype  \n",
            "---  ------                  --------------  -----  \n",
            " 0   job_id                  15000 non-null  object \n",
            " 1   job_title               15000 non-null  object \n",
            " 2   salary_usd              15000 non-null  int64  \n",
            " 3   salary_currency         15000 non-null  object \n",
            " 4   experience_level        15000 non-null  object \n",
            " 5   employment_type         15000 non-null  object \n",
            " 6   company_location        15000 non-null  object \n",
            " 7   company_size            15000 non-null  object \n",
            " 8   employee_residence      15000 non-null  object \n",
            " 9   remote_ratio            15000 non-null  int64  \n",
            " 10  required_skills         15000 non-null  object \n",
            " 11  education_required      15000 non-null  object \n",
            " 12  years_experience        15000 non-null  int64  \n",
            " 13  industry                15000 non-null  object \n",
            " 14  posting_date            15000 non-null  object \n",
            " 15  application_deadline    15000 non-null  object \n",
            " 16  job_description_length  15000 non-null  int64  \n",
            " 17  benefits_score          15000 non-null  float64\n",
            " 18  company_name            15000 non-null  object \n",
            "dtypes: float64(1), int64(4), object(14)\n",
            "memory usage: 2.2+ MB\n"
          ]
        }
      ],
      "source": [
        "# EDA \n",
        "#column names and data types\n",
        "df.info()"
      ]
    },
    {
      "cell_type": "code",
      "execution_count": 17,
      "metadata": {},
      "outputs": [
        {
          "data": {
            "text/plain": [
              "job_id                    0\n",
              "job_title                 0\n",
              "salary_usd                0\n",
              "salary_currency           0\n",
              "experience_level          0\n",
              "employment_type           0\n",
              "company_location          0\n",
              "company_size              0\n",
              "employee_residence        0\n",
              "remote_ratio              0\n",
              "required_skills           0\n",
              "education_required        0\n",
              "years_experience          0\n",
              "industry                  0\n",
              "posting_date              0\n",
              "application_deadline      0\n",
              "job_description_length    0\n",
              "benefits_score            0\n",
              "company_name              0\n",
              "dtype: int64"
            ]
          },
          "execution_count": 17,
          "metadata": {},
          "output_type": "execute_result"
        }
      ],
      "source": [
        "#checking for missing values\n",
        "df.isnull().sum()"
      ]
    },
    {
      "cell_type": "markdown",
      "metadata": {},
      "source": [
        "Section 1 content"
      ]
    },
    {
      "cell_type": "code",
      "execution_count": null,
      "metadata": {},
      "outputs": [],
      "source": []
    },
    {
      "cell_type": "markdown",
      "metadata": {
        "id": "ZY3l0-AxO93d"
      },
      "source": [
        "---"
      ]
    },
    {
      "cell_type": "markdown",
      "metadata": {
        "id": "uFQo3ycuO-v6"
      },
      "source": [
        "# Section 2"
      ]
    },
    {
      "cell_type": "markdown",
      "metadata": {},
      "source": [
        "Section 2 content"
      ]
    },
    {
      "cell_type": "code",
      "execution_count": null,
      "metadata": {},
      "outputs": [],
      "source": []
    },
    {
      "cell_type": "markdown",
      "metadata": {},
      "source": [
        "---"
      ]
    },
    {
      "cell_type": "markdown",
      "metadata": {},
      "source": [
        "NOTE"
      ]
    },
    {
      "cell_type": "markdown",
      "metadata": {},
      "source": [
        "* You may add as many sections as you want, as long as it supports your project workflow.\n",
        "* All notebook's cells should be run top-down (you can't create a dynamic wherein a given point you need to go back to a previous cell to execute some task, like go back to a previous cell and refresh a variable content)"
      ]
    },
    {
      "cell_type": "markdown",
      "metadata": {},
      "source": [
        "---"
      ]
    },
    {
      "cell_type": "markdown",
      "metadata": {
        "id": "ltNetd085qHf"
      },
      "source": [
        "# Push files to Repo"
      ]
    },
    {
      "cell_type": "markdown",
      "metadata": {},
      "source": [
        "* In cases where you don't need to push files to Repo, you may replace this section with \"Conclusions and Next Steps\" and state your conclusions and next steps."
      ]
    },
    {
      "cell_type": "code",
      "execution_count": 7,
      "metadata": {
        "id": "aKlnIozA4eQO",
        "outputId": "fd09bc1f-adb1-4511-f6ce-492a6af570c0"
      },
      "outputs": [
        {
          "ename": "IndentationError",
          "evalue": "expected an indented block after 'try' statement on line 2 (553063055.py, line 5)",
          "output_type": "error",
          "traceback": [
            "  \u001b[36mCell\u001b[39m\u001b[36m \u001b[39m\u001b[32mIn[7]\u001b[39m\u001b[32m, line 5\u001b[39m\n\u001b[31m    \u001b[39m\u001b[31mexcept Exception as e:\u001b[39m\n    ^\n\u001b[31mIndentationError\u001b[39m\u001b[31m:\u001b[39m expected an indented block after 'try' statement on line 2\n"
          ]
        }
      ],
      "source": [
        "import os\n",
        "try:\n",
        "  # create your folder here\n",
        "  # os.makedirs(name='')\n",
        "except Exception as e:\n",
        "  print(e)\n"
      ]
    }
  ],
  "metadata": {
    "accelerator": "GPU",
    "colab": {
      "name": "Data Practitioner Jupyter Notebook.ipynb",
      "provenance": [],
      "toc_visible": true
    },
    "kernelspec": {
      "display_name": ".venv (3.12.8)",
      "language": "python",
      "name": "python3"
    },
    "language_info": {
      "codemirror_mode": {
        "name": "ipython",
        "version": 3
      },
      "file_extension": ".py",
      "mimetype": "text/x-python",
      "name": "python",
      "nbconvert_exporter": "python",
      "pygments_lexer": "ipython3",
      "version": "3.12.8"
    },
    "orig_nbformat": 2
  },
  "nbformat": 4,
  "nbformat_minor": 2
}
