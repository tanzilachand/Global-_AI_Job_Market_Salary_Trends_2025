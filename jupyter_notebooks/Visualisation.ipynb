{
  "cells": [
    {
      "cell_type": "markdown",
      "metadata": {
        "id": "0aStgWSO0E0E"
      },
      "source": [
        "# **(ADD THE NOTEBOOK NAME HERE)**"
      ]
    },
    {
      "cell_type": "markdown",
      "metadata": {
        "id": "1eLEkw5O0ECa"
      },
      "source": [
        "## Objectives\n",
        "\n",
        "* Write your notebook objective here, for example, \"Fetch data from Kaggle and save as raw data\", or \"engineer features for modelling\"\n",
        "\n",
        "## Inputs\n",
        "\n",
        "* Write down which data or information you need to run the notebook \n",
        "\n",
        "## Outputs\n",
        "\n",
        "* Average Salary by Experience Level\n",
        "\n",
        "## Additional Comments\n",
        "\n",
        "* If you have any additional comments that don't fit in the previous bullets, please state them here. \n",
        "\n"
      ]
    },
    {
      "cell_type": "markdown",
      "metadata": {
        "id": "9uWZXH9LwoQg"
      },
      "source": [
        "---"
      ]
    },
    {
      "cell_type": "markdown",
      "metadata": {
        "id": "cqP-UeN-z3i2"
      },
      "source": [
        "# Change working directory"
      ]
    },
    {
      "cell_type": "code",
      "execution_count": 1,
      "metadata": {
        "id": "wZfF_j-Bz3i4",
        "outputId": "66943449-1436-4c3d-85c7-b85f9f78349b"
      },
      "outputs": [
        {
          "data": {
            "text/plain": [
              "'d:\\\\Documents\\\\TC Tanzila\\\\code Ins\\\\Capstone\\\\Global-_AI_Job_Market_Salary_Trends_2025\\\\jupyter_notebooks'"
            ]
          },
          "execution_count": 1,
          "metadata": {},
          "output_type": "execute_result"
        }
      ],
      "source": [
        "import os\n",
        "current_dir = os.getcwd()\n",
        "current_dir"
      ]
    },
    {
      "cell_type": "markdown",
      "metadata": {
        "id": "9MWW8E7lz3i7"
      },
      "source": [
        "We want to make the parent of the current directory the new current directory\n",
        "* os.path.dirname() gets the parent directory\n",
        "* os.chir() defines the new current directory"
      ]
    },
    {
      "cell_type": "code",
      "execution_count": 2,
      "metadata": {
        "id": "TwHsQRWjz3i9",
        "outputId": "86849db3-cd2f-4cc5-ebb8-2d0caafa1a2c"
      },
      "outputs": [
        {
          "name": "stdout",
          "output_type": "stream",
          "text": [
            "You set a new current directory\n"
          ]
        }
      ],
      "source": [
        "os.chdir(os.path.dirname(current_dir))\n",
        "print(\"You set a new current directory\")"
      ]
    },
    {
      "cell_type": "markdown",
      "metadata": {
        "id": "M_xPk_Ijz3i-"
      },
      "source": [
        "Confirm the new current directory"
      ]
    },
    {
      "cell_type": "code",
      "execution_count": 3,
      "metadata": {
        "id": "vz3S-_kjz3jA",
        "outputId": "00b79ae4-75d0-4a96-d193-ac9ef9847ea2"
      },
      "outputs": [
        {
          "data": {
            "text/plain": [
              "'d:\\\\Documents\\\\TC Tanzila\\\\code Ins\\\\Capstone\\\\Global-_AI_Job_Market_Salary_Trends_2025'"
            ]
          },
          "execution_count": 3,
          "metadata": {},
          "output_type": "execute_result"
        }
      ],
      "source": [
        "current_dir = os.getcwd()\n",
        "current_dir"
      ]
    },
    {
      "cell_type": "code",
      "execution_count": 7,
      "metadata": {},
      "outputs": [],
      "source": [
        "raw_data_dir = os.path.join(current_dir, 'data/raw') #path directory\n",
        "\n",
        "processed_data_dir = os.path.join(current_dir, 'data/clean') #path directory"
      ]
    },
    {
      "cell_type": "markdown",
      "metadata": {
        "id": "-mavJ8DibrcQ"
      },
      "source": [
        "# Basic Data Visualization "
      ]
    },
    {
      "cell_type": "markdown",
      "metadata": {},
      "source": [
        "## Import Libraries and Packages"
      ]
    },
    {
      "cell_type": "markdown",
      "metadata": {},
      "source": [
        "Loading Python packages that we will be using in this project to carry out the analysis. For example Numpy to compute numerical operations and handle arrays, Pandas for data manipulation and analysis, Matplotlib, Seaborn and Plotly to create different data visualisations, SciPy for optimization, linear algebra, integration etc, sklearn for machine learning."
      ]
    },
    {
      "cell_type": "code",
      "execution_count": 4,
      "metadata": {},
      "outputs": [],
      "source": [
        "import numpy as np\n",
        "import pandas as pd\n",
        "import seaborn as sns\n",
        "import matplotlib.pyplot as plt\n",
        "import plotly.express as px\n",
        "from scipy.stats import f_oneway, ttest_ind, kruskal\n",
        "from scipy.stats import pearsonr\n",
        "from scipy.stats import chi2_contingency, kurtosis, skew\n",
        "from sklearn.decomposition import PCA\n",
        "from sklearn.preprocessing import StandardScaler\n",
        "from sklearn.preprocessing import LabelEncoder"
      ]
    },
    {
      "cell_type": "markdown",
      "metadata": {},
      "source": [
        "## Load Cleaned Data"
      ]
    },
    {
      "cell_type": "markdown",
      "metadata": {},
      "source": [
        "Loading the CSV dataset cleaned previously and extracting it into dataframe using pd.read_csv() function"
      ]
    },
    {
      "cell_type": "code",
      "execution_count": 8,
      "metadata": {},
      "outputs": [
        {
          "data": {
            "text/html": [
              "<div>\n",
              "<style scoped>\n",
              "    .dataframe tbody tr th:only-of-type {\n",
              "        vertical-align: middle;\n",
              "    }\n",
              "\n",
              "    .dataframe tbody tr th {\n",
              "        vertical-align: top;\n",
              "    }\n",
              "\n",
              "    .dataframe thead th {\n",
              "        text-align: right;\n",
              "    }\n",
              "</style>\n",
              "<table border=\"1\" class=\"dataframe\">\n",
              "  <thead>\n",
              "    <tr style=\"text-align: right;\">\n",
              "      <th></th>\n",
              "      <th>job_id</th>\n",
              "      <th>job_title</th>\n",
              "      <th>salary_usd</th>\n",
              "      <th>salary_currency</th>\n",
              "      <th>experience_level</th>\n",
              "      <th>employment_type</th>\n",
              "      <th>company_location</th>\n",
              "      <th>company_size</th>\n",
              "      <th>employee_residence</th>\n",
              "      <th>remote_ratio</th>\n",
              "      <th>required_skills</th>\n",
              "      <th>education_required</th>\n",
              "      <th>years_experience</th>\n",
              "      <th>industry</th>\n",
              "      <th>posting_date</th>\n",
              "      <th>application_deadline</th>\n",
              "      <th>job_description_length</th>\n",
              "      <th>benefits_score</th>\n",
              "      <th>company_name</th>\n",
              "    </tr>\n",
              "  </thead>\n",
              "  <tbody>\n",
              "    <tr>\n",
              "      <th>0</th>\n",
              "      <td>AI00001</td>\n",
              "      <td>AI Research Scientist</td>\n",
              "      <td>90376</td>\n",
              "      <td>USD</td>\n",
              "      <td>SE</td>\n",
              "      <td>CT</td>\n",
              "      <td>China</td>\n",
              "      <td>M</td>\n",
              "      <td>China</td>\n",
              "      <td>50</td>\n",
              "      <td>Tableau, PyTorch, Kubernetes, Linux, NLP</td>\n",
              "      <td>Bachelor</td>\n",
              "      <td>9</td>\n",
              "      <td>Automotive</td>\n",
              "      <td>2024-10-18</td>\n",
              "      <td>2024-11-07</td>\n",
              "      <td>1076</td>\n",
              "      <td>5</td>\n",
              "      <td>Smart Analytics</td>\n",
              "    </tr>\n",
              "    <tr>\n",
              "      <th>1</th>\n",
              "      <td>AI00002</td>\n",
              "      <td>AI Software Engineer</td>\n",
              "      <td>61895</td>\n",
              "      <td>USD</td>\n",
              "      <td>EN</td>\n",
              "      <td>CT</td>\n",
              "      <td>Canada</td>\n",
              "      <td>M</td>\n",
              "      <td>Ireland</td>\n",
              "      <td>100</td>\n",
              "      <td>Deep Learning, AWS, Mathematics, Python, Docker</td>\n",
              "      <td>Master</td>\n",
              "      <td>1</td>\n",
              "      <td>Media</td>\n",
              "      <td>2024-11-20</td>\n",
              "      <td>2025-01-11</td>\n",
              "      <td>1268</td>\n",
              "      <td>5</td>\n",
              "      <td>TechCorp Inc</td>\n",
              "    </tr>\n",
              "    <tr>\n",
              "      <th>2</th>\n",
              "      <td>AI00003</td>\n",
              "      <td>AI Specialist</td>\n",
              "      <td>152626</td>\n",
              "      <td>USD</td>\n",
              "      <td>MI</td>\n",
              "      <td>FL</td>\n",
              "      <td>Switzerland</td>\n",
              "      <td>L</td>\n",
              "      <td>South Korea</td>\n",
              "      <td>0</td>\n",
              "      <td>Kubernetes, Deep Learning, Java, Hadoop, NLP</td>\n",
              "      <td>Associate</td>\n",
              "      <td>2</td>\n",
              "      <td>Education</td>\n",
              "      <td>2025-03-18</td>\n",
              "      <td>2025-04-07</td>\n",
              "      <td>1974</td>\n",
              "      <td>9</td>\n",
              "      <td>Autonomous Tech</td>\n",
              "    </tr>\n",
              "    <tr>\n",
              "      <th>3</th>\n",
              "      <td>AI00004</td>\n",
              "      <td>NLP Engineer</td>\n",
              "      <td>80215</td>\n",
              "      <td>USD</td>\n",
              "      <td>SE</td>\n",
              "      <td>FL</td>\n",
              "      <td>India</td>\n",
              "      <td>M</td>\n",
              "      <td>India</td>\n",
              "      <td>50</td>\n",
              "      <td>Scala, SQL, Linux, Python</td>\n",
              "      <td>PhD</td>\n",
              "      <td>7</td>\n",
              "      <td>Consulting</td>\n",
              "      <td>2024-12-23</td>\n",
              "      <td>2025-02-24</td>\n",
              "      <td>1345</td>\n",
              "      <td>8</td>\n",
              "      <td>Future Systems</td>\n",
              "    </tr>\n",
              "    <tr>\n",
              "      <th>4</th>\n",
              "      <td>AI00005</td>\n",
              "      <td>AI Consultant</td>\n",
              "      <td>54624</td>\n",
              "      <td>EUR</td>\n",
              "      <td>EN</td>\n",
              "      <td>PT</td>\n",
              "      <td>France</td>\n",
              "      <td>S</td>\n",
              "      <td>Singapore</td>\n",
              "      <td>100</td>\n",
              "      <td>MLOps, Java, Tableau, Python</td>\n",
              "      <td>Master</td>\n",
              "      <td>0</td>\n",
              "      <td>Media</td>\n",
              "      <td>2025-04-15</td>\n",
              "      <td>2025-06-23</td>\n",
              "      <td>1989</td>\n",
              "      <td>6</td>\n",
              "      <td>Advanced Robotics</td>\n",
              "    </tr>\n",
              "    <tr>\n",
              "      <th>...</th>\n",
              "      <td>...</td>\n",
              "      <td>...</td>\n",
              "      <td>...</td>\n",
              "      <td>...</td>\n",
              "      <td>...</td>\n",
              "      <td>...</td>\n",
              "      <td>...</td>\n",
              "      <td>...</td>\n",
              "      <td>...</td>\n",
              "      <td>...</td>\n",
              "      <td>...</td>\n",
              "      <td>...</td>\n",
              "      <td>...</td>\n",
              "      <td>...</td>\n",
              "      <td>...</td>\n",
              "      <td>...</td>\n",
              "      <td>...</td>\n",
              "      <td>...</td>\n",
              "      <td>...</td>\n",
              "    </tr>\n",
              "    <tr>\n",
              "      <th>14995</th>\n",
              "      <td>AI14996</td>\n",
              "      <td>Robotics Engineer</td>\n",
              "      <td>38604</td>\n",
              "      <td>USD</td>\n",
              "      <td>EN</td>\n",
              "      <td>FL</td>\n",
              "      <td>Finland</td>\n",
              "      <td>S</td>\n",
              "      <td>Finland</td>\n",
              "      <td>50</td>\n",
              "      <td>Java, Kubernetes, Azure</td>\n",
              "      <td>Bachelor</td>\n",
              "      <td>1</td>\n",
              "      <td>Energy</td>\n",
              "      <td>2025-02-06</td>\n",
              "      <td>2025-03-25</td>\n",
              "      <td>1635</td>\n",
              "      <td>7</td>\n",
              "      <td>Advanced Robotics</td>\n",
              "    </tr>\n",
              "    <tr>\n",
              "      <th>14996</th>\n",
              "      <td>AI14997</td>\n",
              "      <td>Machine Learning Researcher</td>\n",
              "      <td>57811</td>\n",
              "      <td>GBP</td>\n",
              "      <td>EN</td>\n",
              "      <td>CT</td>\n",
              "      <td>United Kingdom</td>\n",
              "      <td>M</td>\n",
              "      <td>United Kingdom</td>\n",
              "      <td>0</td>\n",
              "      <td>Mathematics, Docker, SQL, Deep Learning</td>\n",
              "      <td>Master</td>\n",
              "      <td>0</td>\n",
              "      <td>Government</td>\n",
              "      <td>2024-10-16</td>\n",
              "      <td>2024-10-30</td>\n",
              "      <td>1624</td>\n",
              "      <td>8</td>\n",
              "      <td>Smart Analytics</td>\n",
              "    </tr>\n",
              "    <tr>\n",
              "      <th>14997</th>\n",
              "      <td>AI14998</td>\n",
              "      <td>NLP Engineer</td>\n",
              "      <td>189490</td>\n",
              "      <td>USD</td>\n",
              "      <td>EX</td>\n",
              "      <td>CT</td>\n",
              "      <td>South Korea</td>\n",
              "      <td>L</td>\n",
              "      <td>South Korea</td>\n",
              "      <td>50</td>\n",
              "      <td>Scala, Spark, NLP</td>\n",
              "      <td>Associate</td>\n",
              "      <td>17</td>\n",
              "      <td>Manufacturing</td>\n",
              "      <td>2024-03-19</td>\n",
              "      <td>2024-05-02</td>\n",
              "      <td>1336</td>\n",
              "      <td>7</td>\n",
              "      <td>AI Innovations</td>\n",
              "    </tr>\n",
              "    <tr>\n",
              "      <th>14998</th>\n",
              "      <td>AI14999</td>\n",
              "      <td>Head of AI</td>\n",
              "      <td>79461</td>\n",
              "      <td>EUR</td>\n",
              "      <td>EN</td>\n",
              "      <td>FT</td>\n",
              "      <td>Netherlands</td>\n",
              "      <td>M</td>\n",
              "      <td>Netherlands</td>\n",
              "      <td>0</td>\n",
              "      <td>Java, Computer Vision, Python, TensorFlow</td>\n",
              "      <td>PhD</td>\n",
              "      <td>1</td>\n",
              "      <td>Real Estate</td>\n",
              "      <td>2024-03-22</td>\n",
              "      <td>2024-04-23</td>\n",
              "      <td>1935</td>\n",
              "      <td>5</td>\n",
              "      <td>Smart Analytics</td>\n",
              "    </tr>\n",
              "    <tr>\n",
              "      <th>14999</th>\n",
              "      <td>AI15000</td>\n",
              "      <td>Computer Vision Engineer</td>\n",
              "      <td>56481</td>\n",
              "      <td>USD</td>\n",
              "      <td>MI</td>\n",
              "      <td>PT</td>\n",
              "      <td>Austria</td>\n",
              "      <td>S</td>\n",
              "      <td>Austria</td>\n",
              "      <td>50</td>\n",
              "      <td>Scala, Azure, Deep Learning, GCP, Mathematics</td>\n",
              "      <td>PhD</td>\n",
              "      <td>2</td>\n",
              "      <td>Technology</td>\n",
              "      <td>2024-07-18</td>\n",
              "      <td>2024-08-10</td>\n",
              "      <td>2492</td>\n",
              "      <td>7</td>\n",
              "      <td>AI Innovations</td>\n",
              "    </tr>\n",
              "  </tbody>\n",
              "</table>\n",
              "<p>15000 rows × 19 columns</p>\n",
              "</div>"
            ],
            "text/plain": [
              "        job_id                    job_title  salary_usd salary_currency  \\\n",
              "0      AI00001        AI Research Scientist       90376             USD   \n",
              "1      AI00002         AI Software Engineer       61895             USD   \n",
              "2      AI00003                AI Specialist      152626             USD   \n",
              "3      AI00004                 NLP Engineer       80215             USD   \n",
              "4      AI00005                AI Consultant       54624             EUR   \n",
              "...        ...                          ...         ...             ...   \n",
              "14995  AI14996            Robotics Engineer       38604             USD   \n",
              "14996  AI14997  Machine Learning Researcher       57811             GBP   \n",
              "14997  AI14998                 NLP Engineer      189490             USD   \n",
              "14998  AI14999                   Head of AI       79461             EUR   \n",
              "14999  AI15000     Computer Vision Engineer       56481             USD   \n",
              "\n",
              "      experience_level employment_type company_location company_size  \\\n",
              "0                   SE              CT            China            M   \n",
              "1                   EN              CT           Canada            M   \n",
              "2                   MI              FL      Switzerland            L   \n",
              "3                   SE              FL            India            M   \n",
              "4                   EN              PT           France            S   \n",
              "...                ...             ...              ...          ...   \n",
              "14995               EN              FL          Finland            S   \n",
              "14996               EN              CT   United Kingdom            M   \n",
              "14997               EX              CT      South Korea            L   \n",
              "14998               EN              FT      Netherlands            M   \n",
              "14999               MI              PT          Austria            S   \n",
              "\n",
              "      employee_residence  remote_ratio  \\\n",
              "0                  China            50   \n",
              "1                Ireland           100   \n",
              "2            South Korea             0   \n",
              "3                  India            50   \n",
              "4              Singapore           100   \n",
              "...                  ...           ...   \n",
              "14995            Finland            50   \n",
              "14996     United Kingdom             0   \n",
              "14997        South Korea            50   \n",
              "14998        Netherlands             0   \n",
              "14999            Austria            50   \n",
              "\n",
              "                                       required_skills education_required  \\\n",
              "0             Tableau, PyTorch, Kubernetes, Linux, NLP           Bachelor   \n",
              "1      Deep Learning, AWS, Mathematics, Python, Docker             Master   \n",
              "2         Kubernetes, Deep Learning, Java, Hadoop, NLP          Associate   \n",
              "3                            Scala, SQL, Linux, Python                PhD   \n",
              "4                         MLOps, Java, Tableau, Python             Master   \n",
              "...                                                ...                ...   \n",
              "14995                          Java, Kubernetes, Azure           Bachelor   \n",
              "14996          Mathematics, Docker, SQL, Deep Learning             Master   \n",
              "14997                                Scala, Spark, NLP          Associate   \n",
              "14998        Java, Computer Vision, Python, TensorFlow                PhD   \n",
              "14999    Scala, Azure, Deep Learning, GCP, Mathematics                PhD   \n",
              "\n",
              "       years_experience       industry posting_date application_deadline  \\\n",
              "0                     9     Automotive   2024-10-18           2024-11-07   \n",
              "1                     1          Media   2024-11-20           2025-01-11   \n",
              "2                     2      Education   2025-03-18           2025-04-07   \n",
              "3                     7     Consulting   2024-12-23           2025-02-24   \n",
              "4                     0          Media   2025-04-15           2025-06-23   \n",
              "...                 ...            ...          ...                  ...   \n",
              "14995                 1         Energy   2025-02-06           2025-03-25   \n",
              "14996                 0     Government   2024-10-16           2024-10-30   \n",
              "14997                17  Manufacturing   2024-03-19           2024-05-02   \n",
              "14998                 1    Real Estate   2024-03-22           2024-04-23   \n",
              "14999                 2     Technology   2024-07-18           2024-08-10   \n",
              "\n",
              "       job_description_length  benefits_score       company_name  \n",
              "0                        1076               5    Smart Analytics  \n",
              "1                        1268               5       TechCorp Inc  \n",
              "2                        1974               9    Autonomous Tech  \n",
              "3                        1345               8     Future Systems  \n",
              "4                        1989               6  Advanced Robotics  \n",
              "...                       ...             ...                ...  \n",
              "14995                    1635               7  Advanced Robotics  \n",
              "14996                    1624               8    Smart Analytics  \n",
              "14997                    1336               7     AI Innovations  \n",
              "14998                    1935               5    Smart Analytics  \n",
              "14999                    2492               7     AI Innovations  \n",
              "\n",
              "[15000 rows x 19 columns]"
            ]
          },
          "execution_count": 8,
          "metadata": {},
          "output_type": "execute_result"
        }
      ],
      "source": [
        "df= pd.read_csv(os.path.join(processed_data_dir, 'ai_job_dataset_cleaned.csv'))\n",
        "df"
      ]
    },
    {
      "cell_type": "markdown",
      "metadata": {},
      "source": [
        "## General Trends and Insights from the Data"
      ]
    },
    {
      "cell_type": "markdown",
      "metadata": {},
      "source": [
        "### Average Salary by Experience Level"
      ]
    },
    {
      "cell_type": "code",
      "execution_count": 25,
      "metadata": {},
      "outputs": [
        {
          "name": "stdout",
          "output_type": "stream",
          "text": [
            "Average Salary by Experience Level (in USD, int64):\n",
            "experience_level\n",
            "EN     63133\n",
            "MI     87955\n",
            "SE    122188\n",
            "EX    187724\n",
            "Name: salary_usd, dtype: int64\n"
          ]
        }
      ],
      "source": [
        "# Average Salary by Experience Level\n",
        "avg_Salary_by_EX_lvl=df.groupby('experience_level')['salary_usd'].mean()\n",
        "# Round and convert to integer (int64)\n",
        "avg_Salary_by_EX_lvl = avg_Salary_by_EX_lvl.round(0).astype('int64')\n",
        "\n",
        "# Reorder levels so EX comes last\n",
        "order = ['EN', 'MI', 'SE', 'EX']\n",
        "avg_Salary_by_EX_lvl = avg_Salary_by_EX_lvl.reindex(order)\n",
        "\n",
        "# Display result\n",
        "print(\"Average Salary by Experience Level (in USD, int64):\")\n",
        "print(avg_Salary_by_EX_lvl)"
      ]
    },
    {
      "cell_type": "code",
      "execution_count": 28,
      "metadata": {},
      "outputs": [
        {
          "data": {
            "image/png": "[encoded data removed]",
            "text/plain": [
              "<Figure size 800x500 with 1 Axes>"
            ]
          },
          "metadata": {},
          "output_type": "display_data"
        }
      ],
      "source": [
        "#average salary by experience level\n",
        "#EN (Entry), MI (Mid), SE (Senior), EX (Executive)\n",
        "y=avg_Salary_by_EX_lvl.values\n",
        "x=avg_Salary_by_EX_lvl.index \n",
        "plt.figure(figsize=(8,5))\n",
        "plt.bar(x, y, color=\"#abc4ff\", edgecolor='black', width=0.6)\n",
        "plt.title(\"Average Salary by Experience Level\")\n",
        "plt.xlabel(\"Experience Level\")\n",
        "plt.ylabel(\"Salary (USD)\")\n",
        "plt.xticks(fontsize=10)\n",
        "plt.yticks(fontsize=10)\n",
        "plt.grid(axis='y', linestyle='--', alpha=0.5)\n",
        "plt.show()\n"
      ]
    },
    {
      "cell_type": "markdown",
      "metadata": {},
      "source": [
        "**Insight:**\n",
        "\n",
        "- The average salary tends to increase with experience level, with senior positions commanding significantly higher salaries.\n",
        "- AI professionals with executive-level experience earn on average 2.5× higher salaries than entry-level employees.\n",
        "- his indicates strong salary growth with experience and highlights the importance of employee retention and upskilling programs."
      ]
    },
    {
      "cell_type": "markdown",
      "metadata": {},
      "source": []
    },
    {
      "cell_type": "markdown",
      "metadata": {
        "id": "ZY3l0-AxO93d"
      },
      "source": [
        "---"
      ]
    },
    {
      "cell_type": "markdown",
      "metadata": {
        "id": "uFQo3ycuO-v6"
      },
      "source": [
        "# Section 2"
      ]
    },
    {
      "cell_type": "markdown",
      "metadata": {},
      "source": [
        "Section 2 content"
      ]
    },
    {
      "cell_type": "code",
      "execution_count": null,
      "metadata": {},
      "outputs": [],
      "source": []
    },
    {
      "cell_type": "markdown",
      "metadata": {},
      "source": [
        "---"
      ]
    },
    {
      "cell_type": "markdown",
      "metadata": {},
      "source": [
        "NOTE"
      ]
    },
    {
      "cell_type": "markdown",
      "metadata": {},
      "source": [
        "* You may add as many sections as you want, as long as it supports your project workflow.\n",
        "* All notebook's cells should be run top-down (you can't create a dynamic wherein a given point you need to go back to a previous cell to execute some task, like go back to a previous cell and refresh a variable content)"
      ]
    },
    {
      "cell_type": "markdown",
      "metadata": {},
      "source": [
        "---"
      ]
    },
    {
      "cell_type": "markdown",
      "metadata": {
        "id": "ltNetd085qHf"
      },
      "source": [
        "# Push files to Repo"
      ]
    },
    {
      "cell_type": "markdown",
      "metadata": {},
      "source": [
        "* In cases where you don't need to push files to Repo, you may replace this section with \"Conclusions and Next Steps\" and state your conclusions and next steps."
      ]
    },
    {
      "cell_type": "code",
      "execution_count": null,
      "metadata": {
        "id": "aKlnIozA4eQO",
        "outputId": "fd09bc1f-adb1-4511-f6ce-492a6af570c0"
      },
      "outputs": [],
      "source": [
        "import os\n",
        "try:\n",
        "  # create your folder here\n",
        "  # os.makedirs(name='')\n",
        "except Exception as e:\n",
        "  print(e)\n"
      ]
    }
  ],
  "metadata": {
    "accelerator": "GPU",
    "colab": {
      "name": "Data Practitioner Jupyter Notebook.ipynb",
      "provenance": [],
      "toc_visible": true
    },
    "kernelspec": {
      "display_name": ".venv (3.12.8)",
      "language": "python",
      "name": "python3"
    },
    "language_info": {
      "codemirror_mode": {
        "name": "ipython",
        "version": 3
      },
      "file_extension": ".py",
      "mimetype": "text/x-python",
      "name": "python",
      "nbconvert_exporter": "python",
      "pygments_lexer": "ipython3",
      "version": "3.12.8"
    },
    "orig_nbformat": 2
  },
  "nbformat": 4,
  "nbformat_minor": 2
}
