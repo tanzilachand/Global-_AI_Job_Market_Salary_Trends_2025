{
  "cells": [
    {
      "cell_type": "markdown",
      "metadata": {
        "id": "0aStgWSO0E0E"
      },
      "source": [
        "# **(ADD THE NOTEBOOK NAME HERE)**"
      ]
    },
    {
      "cell_type": "markdown",
      "metadata": {
        "id": "1eLEkw5O0ECa"
      },
      "source": [
        "## Objectives\n",
        "\n",
        "* Write your notebook objective here, for example, \"Fetch data from Kaggle and save as raw data\", or \"engineer features for modelling\"\n",
        "\n",
        "## Inputs\n",
        "\n",
        "* Write down which data or information you need to run the notebook \n",
        "\n",
        "## Outputs\n",
        "\n",
        "* Average Salary by Experience Level\n",
        "\n",
        "## Additional Comments\n",
        "\n",
        "* If you have any additional comments that don't fit in the previous bullets, please state them here. \n",
        "\n"
      ]
    },
    {
      "cell_type": "markdown",
      "metadata": {
        "id": "9uWZXH9LwoQg"
      },
      "source": [
        "---"
      ]
    },
    {
      "cell_type": "markdown",
      "metadata": {
        "id": "cqP-UeN-z3i2"
      },
      "source": [
        "# Change working directory"
      ]
    },
    {
      "cell_type": "code",
      "execution_count": 1,
      "metadata": {
        "id": "wZfF_j-Bz3i4",
        "outputId": "66943449-1436-4c3d-85c7-b85f9f78349b"
      },
      "outputs": [
        {
          "data": {
            "text/plain": [
              "'d:\\\\Documents\\\\TC Tanzila\\\\code Ins\\\\Capstone\\\\Global-_AI_Job_Market_Salary_Trends_2025\\\\jupyter_notebooks'"
            ]
          },
          "execution_count": 1,
          "metadata": {},
          "output_type": "execute_result"
        }
      ],
      "source": [
        "import os\n",
        "current_dir = os.getcwd()\n",
        "current_dir"
      ]
    },
    {
      "cell_type": "markdown",
      "metadata": {
        "id": "9MWW8E7lz3i7"
      },
      "source": [
        "We want to make the parent of the current directory the new current directory\n",
        "* os.path.dirname() gets the parent directory\n",
        "* os.chir() defines the new current directory"
      ]
    },
    {
      "cell_type": "code",
      "execution_count": 2,
      "metadata": {
        "id": "TwHsQRWjz3i9",
        "outputId": "86849db3-cd2f-4cc5-ebb8-2d0caafa1a2c"
      },
      "outputs": [
        {
          "name": "stdout",
          "output_type": "stream",
          "text": [
            "You set a new current directory\n"
          ]
        }
      ],
      "source": [
        "os.chdir(os.path.dirname(current_dir))\n",
        "print(\"You set a new current directory\")"
      ]
    },
    {
      "cell_type": "markdown",
      "metadata": {
        "id": "M_xPk_Ijz3i-"
      },
      "source": [
        "Confirm the new current directory"
      ]
    },
    {
      "cell_type": "code",
      "execution_count": 3,
      "metadata": {
        "id": "vz3S-_kjz3jA",
        "outputId": "00b79ae4-75d0-4a96-d193-ac9ef9847ea2"
      },
      "outputs": [
        {
          "data": {
            "text/plain": [
              "'d:\\\\Documents\\\\TC Tanzila\\\\code Ins\\\\Capstone\\\\Global-_AI_Job_Market_Salary_Trends_2025'"
            ]
          },
          "execution_count": 3,
          "metadata": {},
          "output_type": "execute_result"
        }
      ],
      "source": [
        "current_dir = os.getcwd()\n",
        "current_dir"
      ]
    },
    {
      "cell_type": "code",
      "execution_count": 4,
      "metadata": {},
      "outputs": [],
      "source": [
        "raw_data_dir = os.path.join(current_dir, 'data/raw') #path directory\n",
        "\n",
        "processed_data_dir = os.path.join(current_dir, 'data/clean') #path directory"
      ]
    },
    {
      "cell_type": "markdown",
      "metadata": {
        "id": "-mavJ8DibrcQ"
      },
      "source": [
        "# Basic Data Visualization "
      ]
    },
    {
      "cell_type": "markdown",
      "metadata": {},
      "source": [
        "## Import Libraries and Packages"
      ]
    },
    {
      "cell_type": "markdown",
      "metadata": {},
      "source": [
        "Loading Python packages that we will be using in this project to carry out the analysis. For example Numpy to compute numerical operations and handle arrays, Pandas for data manipulation and analysis, Matplotlib, Seaborn and Plotly to create different data visualisations, SciPy for optimization, linear algebra, integration etc, sklearn for machine learning."
      ]
    },
    {
      "cell_type": "code",
      "execution_count": 5,
      "metadata": {},
      "outputs": [],
      "source": [
        "import numpy as np\n",
        "import pandas as pd\n",
        "import seaborn as sns\n",
        "import matplotlib.pyplot as plt\n",
        "import plotly.express as px\n",
        "from scipy.stats import f_oneway, ttest_ind, kruskal\n",
        "from scipy.stats import pearsonr\n",
        "from scipy.stats import chi2_contingency, kurtosis, skew\n",
        "from sklearn.decomposition import PCA\n",
        "from sklearn.preprocessing import StandardScaler\n",
        "from sklearn.preprocessing import LabelEncoder"
      ]
    },
    {
      "cell_type": "markdown",
      "metadata": {},
      "source": [
        "## Load Cleaned Data"
      ]
    },
    {
      "cell_type": "markdown",
      "metadata": {},
      "source": [
        "Loading the CSV dataset cleaned previously and extracting it into dataframe using pd.read_csv() function"
      ]
    },
    {
      "cell_type": "code",
      "execution_count": 6,
      "metadata": {},
      "outputs": [
        {
          "data": {
            "text/html": [
              "<div>\n",
              "<style scoped>\n",
              "    .dataframe tbody tr th:only-of-type {\n",
              "        vertical-align: middle;\n",
              "    }\n",
              "\n",
              "    .dataframe tbody tr th {\n",
              "        vertical-align: top;\n",
              "    }\n",
              "\n",
              "    .dataframe thead th {\n",
              "        text-align: right;\n",
              "    }\n",
              "</style>\n",
              "<table border=\"1\" class=\"dataframe\">\n",
              "  <thead>\n",
              "    <tr style=\"text-align: right;\">\n",
              "      <th></th>\n",
              "      <th>job_id</th>\n",
              "      <th>job_title</th>\n",
              "      <th>salary_usd</th>\n",
              "      <th>experience_level</th>\n",
              "      <th>employment_type</th>\n",
              "      <th>company_location</th>\n",
              "      <th>company_size</th>\n",
              "      <th>employee_residence</th>\n",
              "      <th>remote_ratio</th>\n",
              "      <th>required_skills</th>\n",
              "      <th>education_required</th>\n",
              "      <th>years_experience</th>\n",
              "      <th>industry</th>\n",
              "      <th>posting_date</th>\n",
              "      <th>application_deadline</th>\n",
              "      <th>job_description_length</th>\n",
              "      <th>benefits_score</th>\n",
              "      <th>company_name</th>\n",
              "    </tr>\n",
              "  </thead>\n",
              "  <tbody>\n",
              "    <tr>\n",
              "      <th>0</th>\n",
              "      <td>AI00001</td>\n",
              "      <td>AI Research Scientist</td>\n",
              "      <td>90376</td>\n",
              "      <td>SE</td>\n",
              "      <td>CT</td>\n",
              "      <td>China</td>\n",
              "      <td>M</td>\n",
              "      <td>China</td>\n",
              "      <td>50</td>\n",
              "      <td>Tableau, PyTorch, Kubernetes, Linux, NLP</td>\n",
              "      <td>Bachelor</td>\n",
              "      <td>9</td>\n",
              "      <td>Automotive</td>\n",
              "      <td>2024-10-18</td>\n",
              "      <td>2024-11-07</td>\n",
              "      <td>1076</td>\n",
              "      <td>5</td>\n",
              "      <td>Smart Analytics</td>\n",
              "    </tr>\n",
              "    <tr>\n",
              "      <th>1</th>\n",
              "      <td>AI00002</td>\n",
              "      <td>AI Software Engineer</td>\n",
              "      <td>61895</td>\n",
              "      <td>EN</td>\n",
              "      <td>CT</td>\n",
              "      <td>Canada</td>\n",
              "      <td>M</td>\n",
              "      <td>Ireland</td>\n",
              "      <td>100</td>\n",
              "      <td>Deep Learning, AWS, Mathematics, Python, Docker</td>\n",
              "      <td>Master</td>\n",
              "      <td>1</td>\n",
              "      <td>Media</td>\n",
              "      <td>2024-11-20</td>\n",
              "      <td>2025-01-11</td>\n",
              "      <td>1268</td>\n",
              "      <td>5</td>\n",
              "      <td>TechCorp Inc</td>\n",
              "    </tr>\n",
              "    <tr>\n",
              "      <th>2</th>\n",
              "      <td>AI00003</td>\n",
              "      <td>AI Specialist</td>\n",
              "      <td>152626</td>\n",
              "      <td>MI</td>\n",
              "      <td>FL</td>\n",
              "      <td>Switzerland</td>\n",
              "      <td>L</td>\n",
              "      <td>South Korea</td>\n",
              "      <td>0</td>\n",
              "      <td>Kubernetes, Deep Learning, Java, Hadoop, NLP</td>\n",
              "      <td>Associate</td>\n",
              "      <td>2</td>\n",
              "      <td>Education</td>\n",
              "      <td>2025-03-18</td>\n",
              "      <td>2025-04-07</td>\n",
              "      <td>1974</td>\n",
              "      <td>9</td>\n",
              "      <td>Autonomous Tech</td>\n",
              "    </tr>\n",
              "    <tr>\n",
              "      <th>3</th>\n",
              "      <td>AI00004</td>\n",
              "      <td>NLP Engineer</td>\n",
              "      <td>80215</td>\n",
              "      <td>SE</td>\n",
              "      <td>FL</td>\n",
              "      <td>India</td>\n",
              "      <td>M</td>\n",
              "      <td>India</td>\n",
              "      <td>50</td>\n",
              "      <td>Scala, SQL, Linux, Python</td>\n",
              "      <td>PhD</td>\n",
              "      <td>7</td>\n",
              "      <td>Consulting</td>\n",
              "      <td>2024-12-23</td>\n",
              "      <td>2025-02-24</td>\n",
              "      <td>1345</td>\n",
              "      <td>8</td>\n",
              "      <td>Future Systems</td>\n",
              "    </tr>\n",
              "    <tr>\n",
              "      <th>4</th>\n",
              "      <td>AI00005</td>\n",
              "      <td>AI Consultant</td>\n",
              "      <td>54624</td>\n",
              "      <td>EN</td>\n",
              "      <td>PT</td>\n",
              "      <td>France</td>\n",
              "      <td>S</td>\n",
              "      <td>Singapore</td>\n",
              "      <td>100</td>\n",
              "      <td>MLOps, Java, Tableau, Python</td>\n",
              "      <td>Master</td>\n",
              "      <td>0</td>\n",
              "      <td>Media</td>\n",
              "      <td>2025-04-15</td>\n",
              "      <td>2025-06-23</td>\n",
              "      <td>1989</td>\n",
              "      <td>6</td>\n",
              "      <td>Advanced Robotics</td>\n",
              "    </tr>\n",
              "  </tbody>\n",
              "</table>\n",
              "</div>"
            ],
            "text/plain": [
              "    job_id              job_title  salary_usd experience_level  \\\n",
              "0  AI00001  AI Research Scientist       90376               SE   \n",
              "1  AI00002   AI Software Engineer       61895               EN   \n",
              "2  AI00003          AI Specialist      152626               MI   \n",
              "3  AI00004           NLP Engineer       80215               SE   \n",
              "4  AI00005          AI Consultant       54624               EN   \n",
              "\n",
              "  employment_type company_location company_size employee_residence  \\\n",
              "0              CT            China            M              China   \n",
              "1              CT           Canada            M            Ireland   \n",
              "2              FL      Switzerland            L        South Korea   \n",
              "3              FL            India            M              India   \n",
              "4              PT           France            S          Singapore   \n",
              "\n",
              "   remote_ratio                                  required_skills  \\\n",
              "0            50         Tableau, PyTorch, Kubernetes, Linux, NLP   \n",
              "1           100  Deep Learning, AWS, Mathematics, Python, Docker   \n",
              "2             0     Kubernetes, Deep Learning, Java, Hadoop, NLP   \n",
              "3            50                        Scala, SQL, Linux, Python   \n",
              "4           100                     MLOps, Java, Tableau, Python   \n",
              "\n",
              "  education_required  years_experience    industry posting_date  \\\n",
              "0           Bachelor                 9  Automotive   2024-10-18   \n",
              "1             Master                 1       Media   2024-11-20   \n",
              "2          Associate                 2   Education   2025-03-18   \n",
              "3                PhD                 7  Consulting   2024-12-23   \n",
              "4             Master                 0       Media   2025-04-15   \n",
              "\n",
              "  application_deadline  job_description_length  benefits_score  \\\n",
              "0           2024-11-07                    1076               5   \n",
              "1           2025-01-11                    1268               5   \n",
              "2           2025-04-07                    1974               9   \n",
              "3           2025-02-24                    1345               8   \n",
              "4           2025-06-23                    1989               6   \n",
              "\n",
              "        company_name  \n",
              "0    Smart Analytics  \n",
              "1       TechCorp Inc  \n",
              "2    Autonomous Tech  \n",
              "3     Future Systems  \n",
              "4  Advanced Robotics  "
            ]
          },
          "execution_count": 6,
          "metadata": {},
          "output_type": "execute_result"
        }
      ],
      "source": [
        "# Load cleaned dataset using the existing processed_data_dir\n",
        "df= pd.read_csv(os.path.join(processed_data_dir, 'ai_job_dataset_cleaned.csv'))\n",
        "df.head()"
      ]
    },
    {
      "cell_type": "markdown",
      "metadata": {},
      "source": [
        "---"
      ]
    },
    {
      "cell_type": "markdown",
      "metadata": {},
      "source": [
        "# Hypothesis Testing"
      ]
    },
    {
      "cell_type": "markdown",
      "metadata": {},
      "source": [
        "---"
      ]
    },
    {
      "cell_type": "markdown",
      "metadata": {},
      "source": [
        "## Hypothesis 1 - AI job salaries have grown significantly year-over-year.\n",
        "\n",
        "**Explanation:** As AI technologies become more integral to various industries, the demand for skilled AI professionals is expected to rise, leading to higher salaries.\n",
        "\n",
        "**Method:** \n",
        "- Conduct a time series analysis of AI job salaries over the past few years. Use statistical tests to determine if the year-over-year growth in salaries is significant.\n",
        "- Extract the year from the job posting date and group the data by year to calculate the average salary for each year.\n",
        "- Perform a linear regression analysis with year as the independent variable and average salary as the dependent variable to assess the trend over time.\n",
        "\n",
        "**Validation:** \n",
        "- Visualize the trend using line plots to illustrate salary growth over time.\n",
        "- Perform a linear regression analysis to quantify the growth rate and assess its significance.\n",
        "- Upward slope and statistically significant positive trend (P< 0.05) would support the hypothesis."
      ]
    },
    {
      "cell_type": "markdown",
      "metadata": {},
      "source": [
        "### Quick growth summary"
      ]
    },
    {
      "cell_type": "code",
      "execution_count": 33,
      "metadata": {},
      "outputs": [
        {
          "name": "stdout",
          "output_type": "stream",
          "text": [
            "Year-over-Year Salary Growth: 0.72%\n"
          ]
        }
      ],
      "source": [
        "growth = ((115977.999727 - 115145.355983) / 115145.355983) * 100\n",
        "print(f\"Year-over-Year Salary Growth: {growth:.2f}%\")"
      ]
    },
    {
      "cell_type": "markdown",
      "metadata": {},
      "source": [
        "### Visualize the trend"
      ]
    },
    {
      "cell_type": "code",
      "execution_count": 32,
      "metadata": {},
      "outputs": [
        {
          "name": "stdout",
          "output_type": "stream",
          "text": [
            "   year     avg_salary\n",
            "0  2024  115145.355983\n",
            "1  2025  115977.999727\n"
          ]
        },
        {
          "data": {
            "image/png": "[encoded data removed]",
            "text/plain": [
              "<Figure size 640x480 with 1 Axes>"
            ]
          },
          "metadata": {},
          "output_type": "display_data"
        }
      ],
      "source": [
        "# extract year from the 'date' column\n",
        "df['year'] = pd.to_datetime(df['posting_date']).dt.year \n",
        "df['year'].value_counts().sort_index()\n",
        "\n",
        "# Compute average salary per year\n",
        "avg_salary_by_year = df.groupby('year')['salary_usd'].mean().reset_index()\n",
        "avg_salary_by_year.columns = ['year', 'avg_salary']\n",
        "print(avg_salary_by_year)\n",
        "\n",
        "# Plotting the trend of average salary over the years\n",
        "sns.lineplot(\n",
        "    data=avg_salary_by_year,\n",
        "    x='year',\n",
        "    y='avg_salary',\n",
        "    marker='o',\n",
        "    color='#0072B2',\n",
        "    linewidth=2\n",
        ")\n",
        "\n",
        "for i, val in enumerate(avg_salary_by_year['avg_salary']):\n",
        "    plt.text(avg_salary_by_year['year'][i], val + 300, f\"${val:,.0f}\", ha='center')\n",
        "\n",
        "plt.title('AI Job Salary Trend (2024–2025)')\n",
        "plt.xlabel('Year')\n",
        "plt.ylabel('Average Salary (USD)')\n",
        "plt.grid(alpha=0.3)\n",
        "plt.tight_layout()\n",
        "plt.show()\n"
      ]
    },
    {
      "cell_type": "markdown",
      "metadata": {},
      "source": [
        "### Limitations and Considerations\n",
        "- with only a few years of data, it may be challenging to establish a robust trend. A reliable regression analysis or t- test typically requires at least 5-10 years of data to account for variability and ensure statistical significance.\n",
        "- the observed  change is +0.7% per year, which is relatively modest. While this indicates a positive trend, it may not be substantial enough to draw strong conclusions about significant growth in AI job salaries, but additional years of data may help to establish a more definitive trend."
      ]
    },
    {
      "cell_type": "markdown",
      "metadata": {},
      "source": [
        "# Hypothesis 2 - Some AI roles have fasrter salary growth than others.\n",
        "\n",
        "**Explanation:**\n",
        "\n",
        " Different AI roles may experience varying levels of demand and specialization, leading to differential salary growth rates. \n",
        "\n",
        "**Method:**\n",
        "- Categorize the job postings by role (e.g., Data Scientist, Machine Learning Engineer, AI Researcher, etc.).\n",
        "- Calculate the average salary for each role over the years.\n",
        "- Perform a comparative analysis to identify which roles have experienced the highest salary growth rates.\n",
        "\n",
        "**Validation:**\n",
        "- Use bar charts or line plots to visualize salary growth trends for different roles.\n",
        "- Conduct ANOVA or similar statistical tests to determine if the differences in salary growth rates among roles are statistically significant.\n",
        "- Significant differences in growth rates among roles would support the hypothesis."
      ]
    },
    {
      "cell_type": "code",
      "execution_count": 38,
      "metadata": {},
      "outputs": [
        {
          "data": {
            "text/html": [
              "<div>\n",
              "<style scoped>\n",
              "    .dataframe tbody tr th:only-of-type {\n",
              "        vertical-align: middle;\n",
              "    }\n",
              "\n",
              "    .dataframe tbody tr th {\n",
              "        vertical-align: top;\n",
              "    }\n",
              "\n",
              "    .dataframe thead th {\n",
              "        text-align: right;\n",
              "    }\n",
              "</style>\n",
              "<table border=\"1\" class=\"dataframe\">\n",
              "  <thead>\n",
              "    <tr style=\"text-align: right;\">\n",
              "      <th></th>\n",
              "      <th>job_title</th>\n",
              "      <th>year</th>\n",
              "      <th>salary_usd</th>\n",
              "    </tr>\n",
              "  </thead>\n",
              "  <tbody>\n",
              "    <tr>\n",
              "      <th>0</th>\n",
              "      <td>AI Architect</td>\n",
              "      <td>2024</td>\n",
              "      <td>117231.61</td>\n",
              "    </tr>\n",
              "    <tr>\n",
              "      <th>1</th>\n",
              "      <td>AI Architect</td>\n",
              "      <td>2025</td>\n",
              "      <td>118134.37</td>\n",
              "    </tr>\n",
              "    <tr>\n",
              "      <th>2</th>\n",
              "      <td>AI Consultant</td>\n",
              "      <td>2024</td>\n",
              "      <td>113095.03</td>\n",
              "    </tr>\n",
              "    <tr>\n",
              "      <th>3</th>\n",
              "      <td>AI Consultant</td>\n",
              "      <td>2025</td>\n",
              "      <td>115290.15</td>\n",
              "    </tr>\n",
              "    <tr>\n",
              "      <th>4</th>\n",
              "      <td>AI Product Manager</td>\n",
              "      <td>2024</td>\n",
              "      <td>112609.45</td>\n",
              "    </tr>\n",
              "  </tbody>\n",
              "</table>\n",
              "</div>"
            ],
            "text/plain": [
              "            job_title  year  salary_usd\n",
              "0        AI Architect  2024   117231.61\n",
              "1        AI Architect  2025   118134.37\n",
              "2       AI Consultant  2024   113095.03\n",
              "3       AI Consultant  2025   115290.15\n",
              "4  AI Product Manager  2024   112609.45"
            ]
          },
          "execution_count": 38,
          "metadata": {},
          "output_type": "execute_result"
        }
      ],
      "source": [
        "# Compute average salary by job title and year\n",
        "avg_salary_by_role = (\n",
        "    df.groupby(['job_title', 'year'])['salary_usd']\n",
        "    .mean()\n",
        "    .reset_index().round(2)\n",
        ")\n",
        "avg_salary_by_role.head()"
      ]
    },
    {
      "cell_type": "markdown",
      "metadata": {
        "id": "ltNetd085qHf"
      },
      "source": [
        "# Push files to Repo"
      ]
    },
    {
      "cell_type": "markdown",
      "metadata": {},
      "source": [
        "* In cases where you don't need to push files to Repo, you may replace this section with \"Conclusions and Next Steps\" and state your conclusions and next steps."
      ]
    },
    {
      "cell_type": "code",
      "execution_count": 21,
      "metadata": {
        "id": "aKlnIozA4eQO",
        "outputId": "fd09bc1f-adb1-4511-f6ce-492a6af570c0"
      },
      "outputs": [
        {
          "ename": "IndentationError",
          "evalue": "expected an indented block after 'try' statement on line 2 (553063055.py, line 5)",
          "output_type": "error",
          "traceback": [
            "  \u001b[36mCell\u001b[39m\u001b[36m \u001b[39m\u001b[32mIn[21]\u001b[39m\u001b[32m, line 5\u001b[39m\n\u001b[31m    \u001b[39m\u001b[31mexcept Exception as e:\u001b[39m\n    ^\n\u001b[31mIndentationError\u001b[39m\u001b[31m:\u001b[39m expected an indented block after 'try' statement on line 2\n"
          ]
        }
      ],
      "source": [
        "import os\n",
        "try:\n",
        "  # create your folder here\n",
        "  # os.makedirs(name='')\n",
        "except Exception as e:\n",
        "  print(e)\n"
      ]
    }
  ],
  "metadata": {
    "accelerator": "GPU",
    "colab": {
      "name": "Data Practitioner Jupyter Notebook.ipynb",
      "provenance": [],
      "toc_visible": true
    },
    "kernelspec": {
      "display_name": "Python 3",
      "language": "python",
      "name": "python3"
    },
    "language_info": {
      "codemirror_mode": {
        "name": "ipython",
        "version": 3
      },
      "file_extension": ".py",
      "mimetype": "text/x-python",
      "name": "python",
      "nbconvert_exporter": "python",
      "pygments_lexer": "ipython3",
      "version": "3.12.8"
    },
    "orig_nbformat": 2
  },
  "nbformat": 4,
  "nbformat_minor": 2
}
